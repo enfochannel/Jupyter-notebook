{
 "cells": [
  {
   "cell_type": "code",
   "execution_count": null,
   "id": "330dd3d2-6bb8-4054-ae50-288820a1ff68",
   "metadata": {},
   "outputs": [],
   "source": [
    "print('Hello World!')"
   ]
  },
  {
   "cell_type": "code",
   "execution_count": null,
   "id": "0be3af9b-06fb-40e5-9313-45a2e8625088",
   "metadata": {},
   "outputs": [],
   "source": [
    "import time\n",
    "time.sleep(3)"
   ]
  },
  {
   "cell_type": "code",
   "execution_count": null,
   "id": "c1397974-69a6-43f9-8870-9c2b5ad21452",
   "metadata": {},
   "outputs": [],
   "source": [
    "def say_hello(recipient):\n",
    "    return 'Hello, {}!'.format(recipient)\n",
    "say_hello('Tom')"
   ]
  },
  {
   "cell_type": "code",
   "execution_count": 1,
   "id": "f4be727c-d7fe-4669-9e89-e39755943797",
   "metadata": {},
   "outputs": [],
   "source": [
    "import numpy as np\n",
    "def square(x):\n",
    "    return x * x"
   ]
  },
  {
   "cell_type": "code",
   "execution_count": 2,
   "id": "3b01e382-c09f-48fb-a496-4eab5aceedd0",
   "metadata": {},
   "outputs": [
    {
     "name": "stdout",
     "output_type": "stream",
     "text": [
      "4 square is 16\n"
     ]
    }
   ],
   "source": [
    "x = np.random.randint(1, 10)\n",
    "y = square(x)\n",
    "print('%d square is %d' % (x,y))"
   ]
  },
  {
   "cell_type": "code",
   "execution_count": null,
   "id": "a291b308-533b-4a96-b659-c72e55ec7600",
   "metadata": {},
   "outputs": [],
   "source": []
  }
 ],
 "metadata": {
  "kernelspec": {
   "display_name": "Python 3 (ipykernel)",
   "language": "python",
   "name": "python3"
  },
  "language_info": {
   "codemirror_mode": {
    "name": "ipython",
    "version": 3
   },
   "file_extension": ".py",
   "mimetype": "text/x-python",
   "name": "python",
   "nbconvert_exporter": "python",
   "pygments_lexer": "ipython3",
   "version": "3.13.2"
  }
 },
 "nbformat": 4,
 "nbformat_minor": 5
}
